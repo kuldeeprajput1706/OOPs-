{
  "nbformat": 4,
  "nbformat_minor": 0,
  "metadata": {
    "colab": {
      "provenance": []
    },
    "kernelspec": {
      "name": "python3",
      "display_name": "Python 3"
    },
    "language_info": {
      "name": "python"
    }
  },
  "cells": [
    {
      "cell_type": "markdown",
      "source": [
        "# Python OOPs\n"
      ],
      "metadata": {
        "id": "3Km9utgwmY13"
      }
    },
    {
      "cell_type": "markdown",
      "source": [
        "## Theory Questions"
      ],
      "metadata": {
        "id": "zFAPLVKDmj-G"
      }
    },
    {
      "cell_type": "markdown",
      "source": [
        "- 1.What is Object-Oriented Programming (OOP)?\n",
        "\n",
        "  Object-Oriented Programming is a programming paradigm that organizes software design around data, or objects, rather than functions and logic. Objects represent real-world entities and can contain both data (attributes) and methods (functions) that operate on the data. The four fundamental principles of OOP are:\n",
        "\n",
        " Encapsulation: Bundling data and methods that operate on the data within a single unit, or class, and restricting access to some of the object's components to protect the object's integrity.\n",
        "\n",
        " Abstraction: Hiding the complex implementation details and showing only the necessary features of an object.\n",
        "\n",
        " Inheritance: Mechanism by which one class can inherit attributes and methods from another, promoting code reusability.\n",
        "\n",
        " Polymorphism: Ability to present the same interface for different data types, allowing objects of different classes to be treated as objects of a common superclass.\n",
        "\n",
        "- 2.What is a Class in OOP?\n",
        "\n",
        "   A class is a blueprint for creating objects (instances). It defines a set of attributes and methods that the created objects will have. In Python, a class is defined using the class keyword.\n",
        "\n",
        "- 3.What is an Object in OOP?\n",
        "\n",
        " An object is an instance of a class. It is created using the class blueprint and can have its own attributes and behaviors.\n",
        ""
      ],
      "metadata": {
        "id": "wUJkwlSnmwEG"
      }
    },
    {
      "cell_type": "markdown",
      "source": [
        "- 4.What is the Difference Between Abstraction and Encapsulation?\n",
        "\n",
        " Abstraction focuses on hiding the complex implementation details and showing only the necessary features of an object. It allows the programmer to focus on a simplified view of the system.\n",
        "\n",
        " Encapsulation involves bundling the data (attributes) and methods (functions) that operate on the data into a single unit, or class, and restricting access to some of the object's components to protect the object's integrity.\n",
        "\n",
        " - 5.What are Dunder Methods in Python?\n",
        "\n",
        "   Dunder methods (short for \"double underscore\") are special methods in Python that have double underscores at the beginning and end of their names. They are also known as magic methods and allow customization of default behavior of objects."
      ],
      "metadata": {
        "id": "Ptn2eBzQqu50"
      }
    },
    {
      "cell_type": "code",
      "source": [
        "class MyClass:\n",
        "    def __init__(self, value):\n",
        "        self.value = value\n",
        "\n",
        "    def __str__(self):\n",
        "        return f\"MyClass with value {self.value}\"\n",
        "\n",
        "obj = MyClass(10)\n",
        "print(obj)"
      ],
      "metadata": {
        "colab": {
          "base_uri": "https://localhost:8080/"
        },
        "id": "nkMefGOprKzl",
        "outputId": "9a3c8dcb-4093-4d5f-80f5-b870d74b6cb1"
      },
      "execution_count": 1,
      "outputs": [
        {
          "output_type": "stream",
          "name": "stdout",
          "text": [
            "MyClass with value 10\n"
          ]
        }
      ]
    },
    {
      "cell_type": "markdown",
      "source": [
        "- 6.Explain the Concept of Inheritance in OOP\n",
        "\n",
        " Inheritance allows a class (child class) to inherit attributes and methods from another class (parent class). This promotes code reusability and establishes a relationship between the parent and child classes.\n",
        "\n",
        " Example:"
      ],
      "metadata": {
        "id": "c-PdpDj5rYtd"
      }
    },
    {
      "cell_type": "code",
      "source": [
        "class Animal:\n",
        "    def speak(self):\n",
        "        return \"Animal speaks\"\n",
        "\n",
        "class Dog(Animal):\n",
        "    def speak(self):\n",
        "        return \"Woof!\"\n",
        "\n",
        "my_dog = Dog()\n",
        "print(my_dog.speak())"
      ],
      "metadata": {
        "colab": {
          "base_uri": "https://localhost:8080/"
        },
        "id": "eBNEPbL4riW1",
        "outputId": "14775603-f10f-475e-b9f7-4dea9de5238b"
      },
      "execution_count": null,
      "outputs": [
        {
          "output_type": "stream",
          "name": "stdout",
          "text": [
            "Woof!\n"
          ]
        }
      ]
    },
    {
      "cell_type": "markdown",
      "source": [
        "- 7.What is Polymorphism in OOP?\n",
        "\n",
        " Polymorphism allows objects of different classes to be treated as objects of a common superclass. It enables a single function to use entities of different types at different times.\n",
        "\n",
        " Example:"
      ],
      "metadata": {
        "id": "lnJXGpkdrq7d"
      }
    },
    {
      "cell_type": "code",
      "source": [
        "class Cat(Animal):\n",
        "    def speak(self):\n",
        "        return \"Meow!\"\n",
        "\n",
        "animals = [Dog(), Cat()]\n",
        "for animal in animals:\n",
        "    print(animal.speak())"
      ],
      "metadata": {
        "colab": {
          "base_uri": "https://localhost:8080/"
        },
        "id": "Cj2VS6zrr4Bl",
        "outputId": "4ddb9a86-0a57-4565-eab0-9e161785e60f"
      },
      "execution_count": null,
      "outputs": [
        {
          "output_type": "stream",
          "name": "stdout",
          "text": [
            "Woof!\n",
            "Meow!\n"
          ]
        }
      ]
    },
    {
      "cell_type": "markdown",
      "source": [
        "- 8. How is Encapsulation Achieved in Python?\n",
        "\n",
        " Encapsulation in Python is achieved by defining attributes and methods within a class and restricting access to some of the object's components. Python uses naming conventions to indicate the visibility of attributes:\n",
        "\n",
        " Public attributes: Accessible from outside the class.\n",
        "\n",
        " rotected attributes: Indicated by a single underscore _, intended to be accessed within the class and its subclasses.\n",
        "\n",
        " Private attributes: Indicated by double underscores __, intended to be inaccessible from outside the class.\n",
        "\n",
        "- 9. What is a Constructor in Python?\n",
        "\n",
        " In Python, a constructor is a special method __init__() that is automatically called when a new object is created. It initializes the object's attributes.\n",
        "\n",
        ""
      ],
      "metadata": {
        "id": "DvysFaazr6jd"
      }
    },
    {
      "cell_type": "markdown",
      "source": [
        "- 10.What are Class and Static Methods in Python?\n",
        "\n",
        " Class Method: Defined using the @classmethod decorator, it takes cls as the first parameter and can modify class state that applies across all instances of the class.\n",
        "\n",
        " Static Method: Defined using the @staticmethod decorator, it does not take self or cls as the first parameter and cannot modify object or class state. It's used for utility functions.\n",
        "\n",
        "- 11.What is Method Overloading in Python?\n",
        "\n",
        "  Method overloading allows defining multiple methods with the same name but different parameters. However, Python does not support method overloading in the traditional sense. Instead, default arguments or variable-length argument lists can be used to achieve similar functionality.\n",
        "\n",
        "- 12. What is Method Overriding in OOP?\n",
        "\n",
        " Method overriding occurs when a subclass provides a specific implementation of a method that is already defined in its superclass. The subclass method should have the same name, parameters, and return type.\n",
        "\n",
        "- 13.What is a property decorator in Python?\n",
        "\n",
        " The @property decorator in Python is used to make a method act like an attribute. This allows you to define a method that can be accessed as if it were an attribute but still execute some logic behind the scenes. It is commonly used to implement getter and setter methods in a clean and Pythonic way.\n",
        "\n",
        "- 14. Why is polymorphism important in OOP?\n",
        "\n",
        " Polymorphism allows you to use a single interface to represent different underlying forms (data types). It’s important because it provides flexibility and scalability in your code. With polymorphism, you can write more generic code, and the program can handle different types of objects uniformly, thus simplifying code maintenance and extension.\n",
        "\n",
        "- 15.What is an abstract class in Python?\n",
        "\n",
        " An abstract class is a class that cannot be instantiated directly. It is designed to be subclassed, and it can include abstract methods that must be implemented by subclasses. This allows you to define a common interface for a group of subclasses while leaving the specific implementation details to them.\n",
        "\n",
        "- 16. What are the advantages of OOP?\n",
        "\n",
        " Object-Oriented Programming (OOP) has several advantages:\n",
        "\n",
        " Encapsulation: Encapsulation hides the internal state and only exposes necessary parts of an object.\n",
        "\n",
        " Inheritance: Inheritance allows classes to inherit behavior and attributes from other classes, promoting code reuse.\n",
        "\n",
        " Polymorphism: Allows objects of different classes to be treated as objects of a common superclass.\n",
        "\n",
        " Abstraction: Hides complex implementation details and shows only the essential features of an object.\n",
        "\n",
        "- 17. What is the difference between a class variable and an instance variable?\n",
        "\n",
        "  Class Variable: A variable shared by all instances of a class. It is defined inside the class but outside any instance methods.\n",
        "\n",
        "  Instance Variable: A variable that is unique to each instance of the class. It is usually defined inside the __init__ method and is accessed using self.\n",
        "\n",
        "- 18.What is multiple inheritance in Python?\n",
        "\n",
        "  Multiple inheritance is a feature of object-oriented programming where a class can inherit from more than one parent class. This can lead to a situation where the subclass inherits attributes and methods from multiple base classes.\n",
        "\n",
        "- 19. Explain the purpose of __str__ and __repr__ methods in Python?\n",
        "\n",
        " __str__: This method is meant to return a \"user-friendly\" string representation of the object, used by print() or str().\n",
        "\n",
        " __repr__: This method is meant to return an \"official\" string representation of the object, ideally one that could be used to recreate the object using eval().  \n",
        "\n",
        "- 20.What is the significance of the super() function in Python?\n",
        "\n",
        " super() is used to call a method from a parent class. It is especially useful in the context of multiple inheritance where you want to invoke methods from parent classes without explicitly naming them.\n",
        "\n",
        "- 21.What is the significance of the __del__ method in Python?\n",
        "\n",
        " __del__ is a special method in Python that is called when an object is about to be destroyed (i.e., when it is garbage collected). It can be used for cleanup operations like closing files or network connections.\n",
        "\n",
        "- 22.What is the difference between @staticmethod and @classmethod in Python?\n",
        "\n",
        " @staticmethod: A method that doesn't take a reference to the class or instance as the first argument. It behaves like a normal function, but it is associated with the class.\n",
        "\n",
        " @classmethod: A method that takes a reference to the class (cls) as its first argument, allowing it to access class variables and methods.\n",
        "\n",
        "- 23.How does polymorphism work in Python with inheritance?\n",
        "\n",
        " Polymorphism in Python allows methods to have different behaviors based on the object’s class. When a method is called on an object, the method that is executed is the one corresponding to the object's actual class, even if it is a subclass of a parent class.  \n",
        "\n",
        "- 24.What is method chaining in Python OOP?\n",
        "\n",
        " Method chaining is a technique where multiple methods are called on the same object in a single line. This is possible because each method returns the object itself (or another object that has methods).\n",
        "\n",
        "- 25. What is the purpose of the __call__ method in Python?\n",
        "\n",
        " The __call__ method allows an instance of a class to be called like a function. When you call an instance of a class, the __call__ method is invoked.\n",
        "\n",
        "\n",
        "# Practical questions:"
      ],
      "metadata": {
        "id": "37hBy3S5unJU"
      }
    },
    {
      "cell_type": "markdown",
      "source": [
        "- 1. Create a parent class Animal with a method speak() that prints a generic message. Create a child class Dog that overrides the speak() method to print \"Bark!\"."
      ],
      "metadata": {
        "id": "Fb5LZcT_nv6F"
      }
    },
    {
      "cell_type": "code",
      "source": [
        "class Animal:\n",
        "    def speak(self):\n",
        "        print(\"This animal makes a sound.\")\n",
        "\n",
        "class Dog(Animal):\n",
        "    def speak(self):\n",
        "        print(\"Bark!\")\n",
        "\n",
        "# Example usage\n",
        "generic_animal = Animal()\n",
        "generic_animal.speak()  # Output: This animal makes a sound.\n",
        "\n",
        "dog = Dog()\n",
        "dog.speak()  # Output: Bark!\n"
      ],
      "metadata": {
        "id": "C5cgEA4onuPe",
        "colab": {
          "base_uri": "https://localhost:8080/"
        },
        "outputId": "7d6e5c80-4d4e-463e-d067-2bc5c5a67744"
      },
      "execution_count": 4,
      "outputs": [
        {
          "output_type": "stream",
          "name": "stdout",
          "text": [
            "This animal makes a sound.\n",
            "Bark!\n"
          ]
        }
      ]
    },
    {
      "cell_type": "markdown",
      "source": [
        "- 2.Write a program to create an abstract class Shape with a method area(). Derive classes Circle and Rectangle\n",
        "from it and implement the area() method in both."
      ],
      "metadata": {
        "id": "knRBUS_iO3b4"
      }
    },
    {
      "cell_type": "code",
      "source": [
        "from abc import ABC, abstractmethod\n",
        "import math\n",
        "\n",
        "# Abstract base class\n",
        "class Shape(ABC):\n",
        "    @abstractmethod\n",
        "    def area(self):\n",
        "        pass\n",
        "\n",
        "# Derived class Circle\n",
        "class Circle(Shape):\n",
        "    def __init__(self, radius):\n",
        "        self.radius = radius\n",
        "\n",
        "    def area(self):\n",
        "        return math.pi * self.radius ** 2\n",
        "\n",
        "# Derived class Rectangle\n",
        "class Rectangle(Shape):\n",
        "    def __init__(self, width, height):\n",
        "        self.width = width\n",
        "        self.height = height\n",
        "\n",
        "    def area(self):\n",
        "        return self.width * self.height\n",
        "\n",
        "# Example usage\n",
        "circle = Circle(5)\n",
        "print(\"Area of Circle:\", circle.area())\n",
        "\n",
        "rectangle = Rectangle(4, 6)\n",
        "print(\"Area of Rectangle:\", rectangle.area())\n"
      ],
      "metadata": {
        "colab": {
          "base_uri": "https://localhost:8080/"
        },
        "id": "idxM4qXTPGok",
        "outputId": "f0e6ce31-ac45-4cd5-c5d4-56614c1030da"
      },
      "execution_count": 5,
      "outputs": [
        {
          "output_type": "stream",
          "name": "stdout",
          "text": [
            "Area of Circle: 78.53981633974483\n",
            "Area of Rectangle: 24\n"
          ]
        }
      ]
    },
    {
      "cell_type": "markdown",
      "source": [
        "- 3. Implement a multi-level inheritance scenario where a class Vehicle has an attribute type. Derive a class Car\n",
        "and further derive a class ElectricCar that adds a battery attribute."
      ],
      "metadata": {
        "id": "H8WIpxL8PTKZ"
      }
    },
    {
      "cell_type": "code",
      "source": [
        "# Base class\n",
        "class Vehicle:\n",
        "    def __init__(self, vehicle_type):\n",
        "        self.vehicle_type = vehicle_type\n",
        "\n",
        "# Derived class from Vehicle\n",
        "class Car(Vehicle):\n",
        "    def __init__(self, vehicle_type, brand):\n",
        "        super().__init__(vehicle_type)\n",
        "        self.brand = brand\n",
        "\n",
        "# Derived class from Car (multi-level inheritance)\n",
        "class ElectricCar(Car):\n",
        "    def __init__(self, vehicle_type, brand, battery_capacity):\n",
        "        super().__init__(vehicle_type, brand)\n",
        "        self.battery_capacity = battery_capacity\n",
        "\n",
        "    def display_info(self):\n",
        "        print(f\"Type: {self.vehicle_type}\")\n",
        "        print(f\"Brand: {self.brand}\")\n",
        "        print(f\"Battery Capacity: {self.battery_capacity} kWh\")\n",
        "\n",
        "# Example usage\n",
        "my_electric_car = ElectricCar(\"Four-Wheeler\", \"Tesla\", 75)\n",
        "my_electric_car.display_info()\n"
      ],
      "metadata": {
        "colab": {
          "base_uri": "https://localhost:8080/"
        },
        "id": "FiWm8ACbPVNg",
        "outputId": "f15499f4-c89e-4533-ab67-919d68017314"
      },
      "execution_count": 6,
      "outputs": [
        {
          "output_type": "stream",
          "name": "stdout",
          "text": [
            "Type: Four-Wheeler\n",
            "Brand: Tesla\n",
            "Battery Capacity: 75 kWh\n"
          ]
        }
      ]
    },
    {
      "cell_type": "markdown",
      "source": [
        "- 4. Demonstrate polymorphism by creating a base class Bird with a method fly(). Create two derived classes\n",
        "Sparrow and Penguin that override the fly() method.\n"
      ],
      "metadata": {
        "id": "uT2VLwG8Piwk"
      }
    },
    {
      "cell_type": "code",
      "source": [
        "# Base class\n",
        "class Bird:\n",
        "    def fly(self):\n",
        "        print(\"Some birds can fly.\")\n",
        "\n",
        "# Derived class Sparrow\n",
        "class Sparrow(Bird):\n",
        "    def fly(self):\n",
        "        print(\"Sparrow flies high in the sky.\")\n",
        "\n",
        "# Derived class Penguin\n",
        "class Penguin(Bird):\n",
        "    def fly(self):\n",
        "        print(\"Penguins cannot fly but are great swimmers.\")\n",
        "\n",
        "# Function to demonstrate polymorphism\n",
        "def bird_fly(bird):\n",
        "    bird.fly()\n",
        "\n",
        "# Example usage\n",
        "bird1 = Sparrow()\n",
        "bird2 = Penguin()\n",
        "\n",
        "bird_fly(bird1)  # Output: Sparrow flies high in the sky.\n",
        "bird_fly(bird2)  # Output: Penguins cannot fly but are great swimmers.\n"
      ],
      "metadata": {
        "colab": {
          "base_uri": "https://localhost:8080/"
        },
        "id": "WS64uII0PowS",
        "outputId": "227df392-67d3-437a-e867-899f2757ad32"
      },
      "execution_count": 7,
      "outputs": [
        {
          "output_type": "stream",
          "name": "stdout",
          "text": [
            "Sparrow flies high in the sky.\n",
            "Penguins cannot fly but are great swimmers.\n"
          ]
        }
      ]
    },
    {
      "cell_type": "markdown",
      "source": [
        "- 5. Write a program to demonstrate encapsulation by creating a class BankAccount with private attributes\n",
        "balance and methods to deposit, withdraw, and check balance."
      ],
      "metadata": {
        "id": "WKHbKe3mPy89"
      }
    },
    {
      "cell_type": "code",
      "source": [
        "class BankAccount:\n",
        "    def __init__(self, initial_balance=0):\n",
        "        self.__balance = initial_balance  # Private attribute\n",
        "\n",
        "    def deposit(self, amount):\n",
        "        if amount > 0:\n",
        "            self.__balance += amount\n",
        "            print(f\"Deposited: {amount}\")\n",
        "        else:\n",
        "            print(\"Deposit amount must be positive.\")\n",
        "\n",
        "    def withdraw(self, amount):\n",
        "        if 0 < amount <= self.__balance:\n",
        "            self.__balance -= amount\n",
        "            print(f\"Withdrawn: {amount}\")\n",
        "        else:\n",
        "            print(\"Insufficient balance or invalid amount.\")\n",
        "\n",
        "    def check_balance(self):\n",
        "        print(f\"Current Balance: {self.__balance}\")\n",
        "\n",
        "# Example usage\n",
        "account = BankAccount(1000)\n",
        "account.check_balance()     # Output: Current Balance: 1000\n",
        "account.deposit(500)        # Output: Deposited: 500\n",
        "account.withdraw(300)       # Output: Withdrawn: 300\n",
        "account.check_balance()     # Output: Current Balance: 1200\n"
      ],
      "metadata": {
        "colab": {
          "base_uri": "https://localhost:8080/"
        },
        "id": "xjGnTt2bP1Oa",
        "outputId": "f2bc3196-95af-42f4-8e13-fc7e1a5752a0"
      },
      "execution_count": 8,
      "outputs": [
        {
          "output_type": "stream",
          "name": "stdout",
          "text": [
            "Current Balance: 1000\n",
            "Deposited: 500\n",
            "Withdrawn: 300\n",
            "Current Balance: 1200\n"
          ]
        }
      ]
    },
    {
      "cell_type": "markdown",
      "source": [
        "- 6. Demonstrate runtime polymorphism using a method play() in a base class Instrument. Derive classes Guitar\n",
        "and Piano that implement their own version of play()."
      ],
      "metadata": {
        "id": "eqJen6wVP6EH"
      }
    },
    {
      "cell_type": "code",
      "source": [
        "# Base class\n",
        "class Instrument:\n",
        "    def play(self):\n",
        "        print(\"An instrument is being played.\")\n",
        "\n",
        "# Derived class Guitar\n",
        "class Guitar(Instrument):\n",
        "    def play(self):\n",
        "        print(\"Strumming the guitar.\")\n",
        "\n",
        "# Derived class Piano\n",
        "class Piano(Instrument):\n",
        "    def play(self):\n",
        "        print(\"Playing the piano keys.\")\n",
        "\n",
        "# Function to demonstrate runtime polymorphism\n",
        "def perform(instrument):\n",
        "    instrument.play()\n",
        "\n",
        "# Example usage\n",
        "instrument1 = Guitar()\n",
        "instrument2 = Piano()\n",
        "\n",
        "perform(instrument1)  # Output: Strumming the guitar.\n",
        "perform(instrument2)  # Output: Playing the piano keys.\n"
      ],
      "metadata": {
        "colab": {
          "base_uri": "https://localhost:8080/"
        },
        "id": "U05HNjL3P86y",
        "outputId": "60d3b4be-0689-4fc0-8b84-4b35b1469aad"
      },
      "execution_count": 9,
      "outputs": [
        {
          "output_type": "stream",
          "name": "stdout",
          "text": [
            "Strumming the guitar.\n",
            "Playing the piano keys.\n"
          ]
        }
      ]
    },
    {
      "cell_type": "markdown",
      "source": [
        "- 7. Create a class MathOperations with a class method add_numbers() to add two numbers and a static\n",
        "method subtract_numbers() to subtract two numbers."
      ],
      "metadata": {
        "id": "3aoGXIFMQIPx"
      }
    },
    {
      "cell_type": "code",
      "source": [
        "class MathOperations:\n",
        "    @classmethod\n",
        "    def add_numbers(cls, a, b):\n",
        "        return a + b\n",
        "\n",
        "    @staticmethod\n",
        "    def subtract_numbers(a, b):\n",
        "        return a - b\n",
        "\n",
        "# Example usage\n",
        "sum_result = MathOperations.add_numbers(10, 5)\n",
        "print(\"Sum:\", sum_result)  # Output: Sum: 15\n",
        "\n",
        "difference = MathOperations.subtract_numbers(10, 5)\n",
        "print(\"Difference:\", difference)  # Output: Difference: 5\n"
      ],
      "metadata": {
        "colab": {
          "base_uri": "https://localhost:8080/"
        },
        "id": "E7MCXt97QJdD",
        "outputId": "bf918af1-431c-443a-b5e6-5fd510ea04b7"
      },
      "execution_count": 10,
      "outputs": [
        {
          "output_type": "stream",
          "name": "stdout",
          "text": [
            "Sum: 15\n",
            "Difference: 5\n"
          ]
        }
      ]
    },
    {
      "cell_type": "markdown",
      "source": [
        "- 8. Implement a class Person with a class method to count the total number of persons created."
      ],
      "metadata": {
        "id": "-FRwBGQgQQKx"
      }
    },
    {
      "cell_type": "code",
      "source": [
        "class Person:\n",
        "    count = 0  # Class variable to track number of persons\n",
        "\n",
        "    def __init__(self, name):\n",
        "        self.name = name\n",
        "        Person.count += 1  # Increment count whenever a new Person is created\n",
        "\n",
        "    @classmethod\n",
        "    def get_person_count(cls):\n",
        "        return cls.count\n",
        "\n",
        "# Example usage\n",
        "p1 = Person(\"Alice\")\n",
        "p2 = Person(\"Bob\")\n",
        "p3 = Person(\"Charlie\")\n",
        "\n",
        "print(\"Total Persons Created:\", Person.get_person_count())  # Output: Total Persons Created: 3\n"
      ],
      "metadata": {
        "colab": {
          "base_uri": "https://localhost:8080/"
        },
        "id": "NWUUn-IJQRNl",
        "outputId": "d4b8a36b-e060-49cc-bd2a-b276d28b6e77"
      },
      "execution_count": 11,
      "outputs": [
        {
          "output_type": "stream",
          "name": "stdout",
          "text": [
            "Total Persons Created: 3\n"
          ]
        }
      ]
    },
    {
      "cell_type": "markdown",
      "source": [
        "- 9. Write a class Fraction with attributes numerator and denominator. Override the str method to display the\n",
        "fraction as \"numerator/denominator\"."
      ],
      "metadata": {
        "id": "ubboTgHsQV-E"
      }
    },
    {
      "cell_type": "code",
      "source": [
        "class Fraction:\n",
        "    def __init__(self, numerator, denominator):\n",
        "        self.numerator = numerator\n",
        "        self.denominator = denominator\n",
        "\n",
        "    def __str__(self):\n",
        "        return f\"{self.numerator}/{self.denominator}\"\n",
        "\n",
        "# Example usage\n",
        "f1 = Fraction(3, 4)\n",
        "print(f1)  # Output: 3/4\n",
        "\n",
        "f2 = Fraction(7, 2)\n",
        "print(f2)  # Output: 7/2\n"
      ],
      "metadata": {
        "colab": {
          "base_uri": "https://localhost:8080/"
        },
        "id": "tx_x0QI0QXV9",
        "outputId": "93082b66-8e66-44bf-9437-01da818dce15"
      },
      "execution_count": 13,
      "outputs": [
        {
          "output_type": "stream",
          "name": "stdout",
          "text": [
            "3/4\n",
            "7/2\n"
          ]
        }
      ]
    },
    {
      "cell_type": "markdown",
      "source": [
        "- 10. Demonstrate operator overloading by creating a class Vector and overriding the add method to add two\n",
        "vectors."
      ],
      "metadata": {
        "id": "kowL0NrAQfVA"
      }
    },
    {
      "cell_type": "code",
      "source": [
        "class Vector:\n",
        "    def __init__(self, x, y):\n",
        "        self.x = x\n",
        "        self.y = y\n",
        "\n",
        "    def __add__(self, other):\n",
        "        return Vector(self.x + other.x, self.y + other.y)\n",
        "\n",
        "    def __str__(self):\n",
        "        return f\"({self.x}, {self.y})\"\n",
        "\n",
        "# Example usage\n",
        "v1 = Vector(2, 3)\n",
        "v2 = Vector(4, 5)\n",
        "v3 = v1 + v2  # Uses overloaded + operator\n",
        "\n",
        "print(\"v1:\", v1)  # Output: v1: (2, 3)\n",
        "print(\"v2:\", v2)  # Output: v2: (4, 5)\n",
        "print(\"v1 + v2:\", v3)  # Output: v1 + v2: (6, 8)\n"
      ],
      "metadata": {
        "colab": {
          "base_uri": "https://localhost:8080/"
        },
        "id": "InjAddZkQm9l",
        "outputId": "bfc66bb9-8e82-4554-a719-3339a495961c"
      },
      "execution_count": 14,
      "outputs": [
        {
          "output_type": "stream",
          "name": "stdout",
          "text": [
            "v1: (2, 3)\n",
            "v2: (4, 5)\n",
            "v1 + v2: (6, 8)\n"
          ]
        }
      ]
    },
    {
      "cell_type": "markdown",
      "source": [
        "- 11. Create a class Person with attributes name and age. Add a method greet() that prints \"Hello, my name is\n",
        "{name} and I am {age} years old.\""
      ],
      "metadata": {
        "id": "kYfNmkBIQuzp"
      }
    },
    {
      "cell_type": "code",
      "source": [
        "class Person:\n",
        "    def __init__(self, name, age):\n",
        "        self.name = name\n",
        "        self.age = age\n",
        "\n",
        "    def greet(self):\n",
        "        print(f\"Hello, my name is {self.name} and I am {self.age} years old.\")\n",
        "\n",
        "# Example usage\n",
        "person1 = Person(\"Alice\", 30)\n",
        "person1.greet()  # Output: Hello, my name is Alice and I am 30 years old.\n",
        "\n",
        "person2 = Person(\"Bob\", 25)\n",
        "person2.greet()  # Output: Hello, my name is Bob and I am 25 years old.\n"
      ],
      "metadata": {
        "colab": {
          "base_uri": "https://localhost:8080/"
        },
        "id": "FXJQ3rSYQxMV",
        "outputId": "18d49679-3fb9-4b58-9498-5acfb30b40e1"
      },
      "execution_count": 15,
      "outputs": [
        {
          "output_type": "stream",
          "name": "stdout",
          "text": [
            "Hello, my name is Alice and I am 30 years old.\n",
            "Hello, my name is Bob and I am 25 years old.\n"
          ]
        }
      ]
    },
    {
      "cell_type": "markdown",
      "source": [
        "- 12. Implement a class Student with attributes name and grades. Create a method average_grade() to compute\n",
        "the average of the grades."
      ],
      "metadata": {
        "id": "bud39Mm_Q5O8"
      }
    },
    {
      "cell_type": "code",
      "source": [
        "class Student:\n",
        "    def __init__(self, name, grades):\n",
        "        self.name = name\n",
        "        self.grades = grades  # grades is expected to be a list of numbers\n",
        "\n",
        "    def average_grade(self):\n",
        "        if self.grades:\n",
        "            return sum(self.grades) / len(self.grades)\n",
        "        else:\n",
        "            return 0  # Return 0 if there are no grades\n",
        "\n",
        "# Example usage\n",
        "student1 = Student(\"Alice\", [90, 85, 88, 92])\n",
        "print(f\"{student1.name}'s Average Grade: {student1.average_grade()}\")  # Output: Alice's Average Grade: 88.75\n",
        "\n",
        "student2 = Student(\"Bob\", [78, 85, 80, 70])\n",
        "print(f\"{student2.name}'s Average Grade: {student2.average_grade()}\")  # Output: Bob's Average Grade: 78.25\n"
      ],
      "metadata": {
        "colab": {
          "base_uri": "https://localhost:8080/"
        },
        "id": "KDXnEdX5Q6Xc",
        "outputId": "d1bd3cca-d568-4651-ca49-f112e43c471a"
      },
      "execution_count": 16,
      "outputs": [
        {
          "output_type": "stream",
          "name": "stdout",
          "text": [
            "Alice's Average Grade: 88.75\n",
            "Bob's Average Grade: 78.25\n"
          ]
        }
      ]
    },
    {
      "cell_type": "markdown",
      "source": [
        "- 13. Create a class Rectangle with methods set_dimensions() to set the dimensions and area() to calculate the\n",
        "area."
      ],
      "metadata": {
        "id": "buwmVeLkRAie"
      }
    },
    {
      "cell_type": "code",
      "source": [
        "class Rectangle:\n",
        "    def __init__(self):\n",
        "        self.length = 0\n",
        "        self.width = 0\n",
        "\n",
        "    def set_dimensions(self, length, width):\n",
        "        self.length = length\n",
        "        self.width = width\n",
        "\n",
        "    def area(self):\n",
        "        return self.length * self.width\n",
        "\n",
        "# Example usage\n",
        "rect = Rectangle()\n",
        "rect.set_dimensions(5, 4)\n",
        "print(f\"Area of Rectangle: {rect.area()}\")  # Output: Area of Rectangle: 20\n"
      ],
      "metadata": {
        "colab": {
          "base_uri": "https://localhost:8080/"
        },
        "id": "GYoqfScHRBeI",
        "outputId": "3ef9d40d-9072-49bc-d6f7-abf9c3c6fd35"
      },
      "execution_count": 17,
      "outputs": [
        {
          "output_type": "stream",
          "name": "stdout",
          "text": [
            "Area of Rectangle: 20\n"
          ]
        }
      ]
    },
    {
      "cell_type": "markdown",
      "source": [
        "- 14. Create a class Employee with a method calculate_salary() that computes the salary based on hours worked\n",
        "and hourly rate. Create a derived class Manager that adds a bonus to the salary"
      ],
      "metadata": {
        "id": "6H_vnFTiRECu"
      }
    },
    {
      "cell_type": "code",
      "source": [
        "# Base class Employee\n",
        "class Employee:\n",
        "    def __init__(self, name, hours_worked, hourly_rate):\n",
        "        self.name = name\n",
        "        self.hours_worked = hours_worked\n",
        "        self.hourly_rate = hourly_rate\n",
        "\n",
        "    def calculate_salary(self):\n",
        "        return self.hours_worked * self.hourly_rate\n",
        "\n",
        "# Derived class Manager\n",
        "class Manager(Employee):\n",
        "    def __init__(self, name, hours_worked, hourly_rate, bonus):\n",
        "        super().__init__(name, hours_worked, hourly_rate)\n",
        "        self.bonus = bonus\n",
        "\n",
        "    def calculate_salary(self):\n",
        "        base_salary = super().calculate_salary()  # Calculate base salary\n",
        "        return base_salary + self.bonus  # Add bonus to the base salary\n",
        "\n",
        "# Example usage\n",
        "employee = Employee(\"Alice\", 160, 20)\n",
        "print(f\"Employee Salary: ${employee.calculate_salary()}\")  # Output: Employee Salary: $3200\n",
        "\n",
        "manager = Manager(\"Bob\", 160, 25, 500)\n",
        "print(f\"Manager Salary: ${manager.calculate_salary()}\")  # Output: Manager Salary: $4500\n"
      ],
      "metadata": {
        "colab": {
          "base_uri": "https://localhost:8080/"
        },
        "id": "C80WvigyRJeZ",
        "outputId": "e92a109c-8a85-4bfd-d0f4-de654985cd64"
      },
      "execution_count": 23,
      "outputs": [
        {
          "output_type": "stream",
          "name": "stdout",
          "text": [
            "Employee Salary: $3200\n",
            "Manager Salary: $4500\n"
          ]
        }
      ]
    },
    {
      "cell_type": "markdown",
      "source": [
        "- 15. Create a class Product with attributes name, price, and quantity. Implement a method total_price() that\n",
        "calculates the total price of the product."
      ],
      "metadata": {
        "id": "ZJbCOPQlRMgC"
      }
    },
    {
      "cell_type": "code",
      "source": [
        "class Product:\n",
        "    def __init__(self, name, price, quantity):\n",
        "        self.name = name\n",
        "        self.price = price\n",
        "        self.quantity = quantity\n",
        "\n",
        "    def total_price(self):\n",
        "        return self.price * self.quantity\n",
        "\n",
        "# Example usage\n",
        "product1 = Product(\"Laptop\", 1000, 3)\n",
        "print(f\"Total price of {product1.name}: ${product1.total_price()}\")  # Output: Total price of Laptop: $3000\n",
        "\n",
        "product2 = Product(\"Headphones\", 50, 5)\n",
        "print(f\"Total price of {product2.name}: ${product2.total_price()}\")  # Output: Total price of Headphones: $250\n"
      ],
      "metadata": {
        "colab": {
          "base_uri": "https://localhost:8080/"
        },
        "id": "hZdrjYbxRRYN",
        "outputId": "e7a8ca53-5391-4974-aa32-5071987ba142"
      },
      "execution_count": 19,
      "outputs": [
        {
          "output_type": "stream",
          "name": "stdout",
          "text": [
            "Total price of Laptop: $3000\n",
            "Total price of Headphones: $250\n"
          ]
        }
      ]
    },
    {
      "cell_type": "markdown",
      "source": [
        "- 16. Create a class Animal with an abstract method sound(). Create two derived classes Cow and Sheep that\n",
        "implement the sound() method."
      ],
      "metadata": {
        "id": "XQC9mjYgRXAb"
      }
    },
    {
      "cell_type": "code",
      "source": [
        "from abc import ABC, abstractmethod\n",
        "\n",
        "# Abstract base class\n",
        "class Animal(ABC):\n",
        "    @abstractmethod\n",
        "    def sound(self):\n",
        "        pass\n",
        "\n",
        "# Derived class Cow\n",
        "class Cow(Animal):\n",
        "    def sound(self):\n",
        "        return \"Moo\"\n",
        "\n",
        "# Derived class Sheep\n",
        "class Sheep(Animal):\n",
        "    def sound(self):\n",
        "        return \"Baa\"\n",
        "\n",
        "# Example usage\n",
        "cow = Cow()\n",
        "sheep = Sheep()\n",
        "\n",
        "print(f\"Cow sound: {cow.sound()}\")  # Output: Cow sound: Moo\n",
        "print(f\"Sheep sound: {sheep.sound()}\")  # Output: Sheep sound: Baa\n"
      ],
      "metadata": {
        "colab": {
          "base_uri": "https://localhost:8080/"
        },
        "id": "mrBhF2O2RYf5",
        "outputId": "b439a311-a055-4bef-e7fb-46f4c5145943"
      },
      "execution_count": 20,
      "outputs": [
        {
          "output_type": "stream",
          "name": "stdout",
          "text": [
            "Cow sound: Moo\n",
            "Sheep sound: Baa\n"
          ]
        }
      ]
    },
    {
      "cell_type": "markdown",
      "source": [
        "- 17. Create a class Book with attributes title, author, and year_published. Add a method get_book_info() that\n",
        "returns a formatted string with the book's details."
      ],
      "metadata": {
        "id": "MvB44lLIRe3t"
      }
    },
    {
      "cell_type": "code",
      "source": [
        "class Book:\n",
        "    def __init__(self, title, author, year_published):\n",
        "        self.title = title\n",
        "        self.author = author\n",
        "        self.year_published = year_published\n",
        "\n",
        "    def get_book_info(self):\n",
        "        return f\"Title: {self.title}\\nAuthor: {self.author}\\nYear Published: {self.year_published}\"\n",
        "\n",
        "# Example usage\n",
        "book1 = Book(\"1984\", \"George Orwell\", 1949)\n",
        "print(book1.get_book_info())\n",
        "\n",
        "book2 = Book(\"To Kill a Mockingbird\", \"Harper Lee\", 1960)\n",
        "print(book2.get_book_info())\n"
      ],
      "metadata": {
        "colab": {
          "base_uri": "https://localhost:8080/"
        },
        "id": "ICJ4n9ZURgKQ",
        "outputId": "aaa3b299-7576-4498-c598-a163f7ad69bc"
      },
      "execution_count": 21,
      "outputs": [
        {
          "output_type": "stream",
          "name": "stdout",
          "text": [
            "Title: 1984\n",
            "Author: George Orwell\n",
            "Year Published: 1949\n",
            "Title: To Kill a Mockingbird\n",
            "Author: Harper Lee\n",
            "Year Published: 1960\n"
          ]
        }
      ]
    },
    {
      "cell_type": "markdown",
      "source": [
        "- 18. Create a class House with attributes address and price. Create a derived class Mansion that adds an\n",
        "attribute number_of_rooms."
      ],
      "metadata": {
        "id": "hjOXUVuFRmbX"
      }
    },
    {
      "cell_type": "code",
      "source": [
        "# Base class House\n",
        "class House:\n",
        "    def __init__(self, address, price):\n",
        "        self.address = address\n",
        "        self.price = price\n",
        "\n",
        "# Derived class Mansion\n",
        "class Mansion(House):\n",
        "    def __init__(self, address, price, number_of_rooms):\n",
        "        super().__init__(address, price)\n",
        "        self.number_of_rooms = number_of_rooms\n",
        "\n",
        "    def get_details(self):\n",
        "        return f\"Address: {self.address}\\nPrice: ${self.price}\\nNumber of Rooms: {self.number_of_rooms}\"\n",
        "\n",
        "# Example usage\n",
        "house = House(\"123 Elm Street\", 250000)\n",
        "print(f\"House Details:\\nAddress: {house.address}\\nPrice: ${house.price}\\n\")\n",
        "\n",
        "mansion = Mansion(\"456 Luxury Ave\", 1200000, 15)\n",
        "print(mansion.get_details())\n"
      ],
      "metadata": {
        "colab": {
          "base_uri": "https://localhost:8080/"
        },
        "id": "rhfIpEKXRoEr",
        "outputId": "2aa8306b-a99d-4b6f-946b-15a933fa2bfd"
      },
      "execution_count": 22,
      "outputs": [
        {
          "output_type": "stream",
          "name": "stdout",
          "text": [
            "House Details:\n",
            "Address: 123 Elm Street\n",
            "Price: $250000\n",
            "\n",
            "Address: 456 Luxury Ave\n",
            "Price: $1200000\n",
            "Number of Rooms: 15\n"
          ]
        }
      ]
    }
  ]
}